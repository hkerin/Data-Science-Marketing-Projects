{
 "cells": [
  {
   "cell_type": "markdown",
   "id": "0c31c50b",
   "metadata": {},
   "source": [
    "###  <font color=blue> Final Exam   </font>"
   ]
  },
  {
   "cell_type": "markdown",
   "id": "75b8d89a",
   "metadata": {},
   "source": [
    "###  <font color=blue> Hannah Kerin\n",
    "  <font color=red>Programming in Python ISGB-7943-001:\n",
    "      <font color=red> Assignment Final"
   ]
  },
  {
   "cell_type": "markdown",
   "id": "266ffab5",
   "metadata": {},
   "source": [
    "Import all libraries "
   ]
  },
  {
   "cell_type": "code",
   "execution_count": 95,
   "id": "45f18527",
   "metadata": {},
   "outputs": [],
   "source": [
    "#Import all additional libraries. \n",
    "import pandas as pd\n",
    "import matplotlib.pyplot as plt\n",
    "import seaborn as sns\n",
    "#set precision and pallette\n",
    "pd.set_option('display.precision',2)\n",
    "sns.set(palette = \"rainbow\")"
   ]
  },
  {
   "cell_type": "markdown",
   "id": "08f298ac",
   "metadata": {},
   "source": [
    "1.1.) Create DataFrame"
   ]
  },
  {
   "cell_type": "code",
   "execution_count": 161,
   "id": "0eb0c06f",
   "metadata": {},
   "outputs": [
    {
     "data": {
      "text/html": [
       "<div>\n",
       "<style scoped>\n",
       "    .dataframe tbody tr th:only-of-type {\n",
       "        vertical-align: middle;\n",
       "    }\n",
       "\n",
       "    .dataframe tbody tr th {\n",
       "        vertical-align: top;\n",
       "    }\n",
       "\n",
       "    .dataframe thead th {\n",
       "        text-align: right;\n",
       "    }\n",
       "</style>\n",
       "<table border=\"1\" class=\"dataframe\">\n",
       "  <thead>\n",
       "    <tr style=\"text-align: right;\">\n",
       "      <th></th>\n",
       "      <th>birth_year</th>\n",
       "      <th>gender</th>\n",
       "      <th>ethnicity</th>\n",
       "      <th>first_name</th>\n",
       "      <th>frequency</th>\n",
       "    </tr>\n",
       "  </thead>\n",
       "  <tbody>\n",
       "    <tr>\n",
       "      <th>0</th>\n",
       "      <td>2012</td>\n",
       "      <td>female</td>\n",
       "      <td>asian and paci</td>\n",
       "      <td>michelle</td>\n",
       "      <td>48</td>\n",
       "    </tr>\n",
       "    <tr>\n",
       "      <th>1</th>\n",
       "      <td>2017</td>\n",
       "      <td>female</td>\n",
       "      <td>black non hispanic</td>\n",
       "      <td>londyn</td>\n",
       "      <td>16</td>\n",
       "    </tr>\n",
       "    <tr>\n",
       "      <th>2</th>\n",
       "      <td>2015</td>\n",
       "      <td>female</td>\n",
       "      <td>white non hispanic</td>\n",
       "      <td>lauren</td>\n",
       "      <td>19</td>\n",
       "    </tr>\n",
       "    <tr>\n",
       "      <th>3</th>\n",
       "      <td>2015</td>\n",
       "      <td>female</td>\n",
       "      <td>black non hispanic</td>\n",
       "      <td>kayla</td>\n",
       "      <td>44</td>\n",
       "    </tr>\n",
       "    <tr>\n",
       "      <th>4</th>\n",
       "      <td>2014</td>\n",
       "      <td>male</td>\n",
       "      <td>hispanic</td>\n",
       "      <td>yandel</td>\n",
       "      <td>15</td>\n",
       "    </tr>\n",
       "  </tbody>\n",
       "</table>\n",
       "</div>"
      ],
      "text/plain": [
       "   birth_year  gender           ethnicity first_name  frequency\n",
       "0        2012  female      asian and paci   michelle         48\n",
       "1        2017  female  black non hispanic     londyn         16\n",
       "2        2015  female  white non hispanic     lauren         19\n",
       "3        2015  female  black non hispanic      kayla         44\n",
       "4        2014    male            hispanic     yandel         15"
      ]
     },
     "execution_count": 161,
     "metadata": {},
     "output_type": "execute_result"
    }
   ],
   "source": [
    "#Create data frame for excel file\n",
    "births= pd.read_excel(\"births.xlsx\")\n",
    "\n",
    "parse_Date= True\n",
    "#view data\n",
    "births.head()"
   ]
  },
  {
   "cell_type": "code",
   "execution_count": 97,
   "id": "c85367e7",
   "metadata": {},
   "outputs": [
    {
     "name": "stdout",
     "output_type": "stream",
     "text": [
      "<class 'pandas.core.frame.DataFrame'>\n",
      "RangeIndex: 14155 entries, 0 to 14154\n",
      "Data columns (total 5 columns):\n",
      " #   Column      Non-Null Count  Dtype \n",
      "---  ------      --------------  ----- \n",
      " 0   birth_year  14155 non-null  int64 \n",
      " 1   gender      14154 non-null  object\n",
      " 2   ethnicity   14155 non-null  object\n",
      " 3   first_name  14155 non-null  object\n",
      " 4   frequency   14155 non-null  int64 \n",
      "dtypes: int64(2), object(3)\n",
      "memory usage: 553.1+ KB\n"
     ]
    }
   ],
   "source": [
    "#Data Inspection \n",
    "#Find out information about the file such as datatype and \n",
    "#number of rows.\n",
    "births.info()"
   ]
  },
  {
   "cell_type": "code",
   "execution_count": 98,
   "id": "ed134979",
   "metadata": {},
   "outputs": [
    {
     "data": {
      "text/plain": [
       "Index(['birth_year', 'gender', 'ethnicity', 'first_name', 'frequency'], dtype='object')"
      ]
     },
     "execution_count": 98,
     "metadata": {},
     "output_type": "execute_result"
    }
   ],
   "source": [
    "#Column names are shown below\n",
    "births.columns"
   ]
  },
  {
   "cell_type": "code",
   "execution_count": 102,
   "id": "8b2131ef",
   "metadata": {},
   "outputs": [
    {
     "data": {
      "text/html": [
       "<div>\n",
       "<style scoped>\n",
       "    .dataframe tbody tr th:only-of-type {\n",
       "        vertical-align: middle;\n",
       "    }\n",
       "\n",
       "    .dataframe tbody tr th {\n",
       "        vertical-align: top;\n",
       "    }\n",
       "\n",
       "    .dataframe thead th {\n",
       "        text-align: right;\n",
       "    }\n",
       "</style>\n",
       "<table border=\"1\" class=\"dataframe\">\n",
       "  <thead>\n",
       "    <tr style=\"text-align: right;\">\n",
       "      <th></th>\n",
       "      <th>birth_year</th>\n",
       "      <th>frequency</th>\n",
       "    </tr>\n",
       "  </thead>\n",
       "  <tbody>\n",
       "    <tr>\n",
       "      <th>count</th>\n",
       "      <td>14154.00</td>\n",
       "      <td>14154.00</td>\n",
       "    </tr>\n",
       "    <tr>\n",
       "      <th>mean</th>\n",
       "      <td>2014.01</td>\n",
       "      <td>34.06</td>\n",
       "    </tr>\n",
       "    <tr>\n",
       "      <th>std</th>\n",
       "      <td>1.99</td>\n",
       "      <td>39.45</td>\n",
       "    </tr>\n",
       "    <tr>\n",
       "      <th>min</th>\n",
       "      <td>2011.00</td>\n",
       "      <td>10.00</td>\n",
       "    </tr>\n",
       "    <tr>\n",
       "      <th>25%</th>\n",
       "      <td>2012.00</td>\n",
       "      <td>13.00</td>\n",
       "    </tr>\n",
       "    <tr>\n",
       "      <th>50%</th>\n",
       "      <td>2014.00</td>\n",
       "      <td>20.00</td>\n",
       "    </tr>\n",
       "    <tr>\n",
       "      <th>75%</th>\n",
       "      <td>2016.00</td>\n",
       "      <td>36.00</td>\n",
       "    </tr>\n",
       "    <tr>\n",
       "      <th>max</th>\n",
       "      <td>2017.00</td>\n",
       "      <td>426.00</td>\n",
       "    </tr>\n",
       "  </tbody>\n",
       "</table>\n",
       "</div>"
      ],
      "text/plain": [
       "       birth_year  frequency\n",
       "count    14154.00   14154.00\n",
       "mean      2014.01      34.06\n",
       "std          1.99      39.45\n",
       "min       2011.00      10.00\n",
       "25%       2012.00      13.00\n",
       "50%       2014.00      20.00\n",
       "75%       2016.00      36.00\n",
       "max       2017.00     426.00"
      ]
     },
     "execution_count": 102,
     "metadata": {},
     "output_type": "execute_result"
    }
   ],
   "source": [
    "births.describe()"
   ]
  },
  {
   "cell_type": "code",
   "execution_count": 99,
   "id": "bd0796ba",
   "metadata": {},
   "outputs": [
    {
     "data": {
      "text/plain": [
       "birth_year    0\n",
       "gender        1\n",
       "ethnicity     0\n",
       "first_name    0\n",
       "frequency     0\n",
       "dtype: int64"
      ]
     },
     "execution_count": 99,
     "metadata": {},
     "output_type": "execute_result"
    }
   ],
   "source": [
    "#Show if there are any missing values\n",
    "births.isna().sum()"
   ]
  },
  {
   "cell_type": "markdown",
   "id": "2f60bfd2",
   "metadata": {},
   "source": [
    "<font color=red> Findings:\n",
    "    <font color=black>There are no missing values in any column besides gender. There is a missing value in gender"
   ]
  },
  {
   "cell_type": "code",
   "execution_count": 100,
   "id": "c7232423",
   "metadata": {},
   "outputs": [
    {
     "data": {
      "text/plain": [
       "1"
      ]
     },
     "execution_count": 100,
     "metadata": {},
     "output_type": "execute_result"
    }
   ],
   "source": [
    "#use the isna function to find the number of missing values in gender. \n",
    "births['gender'].isna().sum()"
   ]
  },
  {
   "cell_type": "markdown",
   "id": "cde0d0d4",
   "metadata": {},
   "source": [
    "<font color=red> Findings:\n",
    "    <font color=black>one NaN value in Gender"
   ]
  },
  {
   "cell_type": "code",
   "execution_count": 101,
   "id": "c62c05d0",
   "metadata": {},
   "outputs": [
    {
     "name": "stdout",
     "output_type": "stream",
     "text": [
      "Original Dataframe, births\n",
      "       birth_year  gender                   ethnicity first_name  frequency\n",
      "0            2012  female              asian and paci   michelle         48\n",
      "1            2017  female          black non hispanic     londyn         16\n",
      "2            2015  female          white non hispanic     lauren         19\n",
      "3            2015  female          black non hispanic      kayla         44\n",
      "4            2014    male                    hispanic     yandel         15\n",
      "...           ...     ...                         ...        ...        ...\n",
      "14150        2014    male                    hispanic   theodore         11\n",
      "14151        2013    male  asian and pacific islander     andrew         44\n",
      "14152        2017  female  asian and pacific islander       nora         12\n",
      "14153        2017    male                    hispanic       jean         13\n",
      "14154        2015    male                    hispanic     matias         22\n",
      "\n",
      "[14155 rows x 5 columns]\n",
      "\n",
      "\n",
      "DataFrame, births, after dropping the rows having missing values:\n",
      "       birth_year  gender                   ethnicity first_name  frequency\n",
      "0            2012  female              asian and paci   michelle         48\n",
      "1            2017  female          black non hispanic     londyn         16\n",
      "2            2015  female          white non hispanic     lauren         19\n",
      "3            2015  female          black non hispanic      kayla         44\n",
      "4            2014    male                    hispanic     yandel         15\n",
      "...           ...     ...                         ...        ...        ...\n",
      "14150        2014    male                    hispanic   theodore         11\n",
      "14151        2013    male  asian and pacific islander     andrew         44\n",
      "14152        2017  female  asian and pacific islander       nora         12\n",
      "14153        2017    male                    hispanic       jean         13\n",
      "14154        2015    male                    hispanic     matias         22\n",
      "\n",
      "[14154 rows x 5 columns]\n"
     ]
    }
   ],
   "source": [
    "print (\"Original Dataframe, births\")\n",
    "print(births)\n",
    "print(\"\\n\")\n",
    "#Used Pandas dropna() function to drop rows with missing values\n",
    "births=births.dropna()\n",
    "print ('DataFrame, births, after dropping the rows having missing values:')\n",
    "print(births)"
   ]
  },
  {
   "cell_type": "markdown",
   "id": "ce41ec20",
   "metadata": {},
   "source": [
    "<font color=red> Findings:\n",
    "    <font color=black>One row with the missing gender value was droped as one can see the original births had 14,155 rows and after the use pf dropna() function there are 14,154 rows. "
   ]
  },
  {
   "cell_type": "markdown",
   "id": "4c0a918e",
   "metadata": {},
   "source": [
    "1.2 The number of babies born in the dataset. "
   ]
  },
  {
   "cell_type": "code",
   "execution_count": 87,
   "id": "9c07225f",
   "metadata": {},
   "outputs": [
    {
     "name": "stdout",
     "output_type": "stream",
     "text": [
      "482094 number of births\n"
     ]
    }
   ],
   "source": [
    "#Find the number of births by using sum function on frequency. \n",
    "number_of_births= births.frequency.sum()\n",
    "print (number_of_births,\"number of births\")\n"
   ]
  },
  {
   "cell_type": "markdown",
   "id": "16d17f62",
   "metadata": {},
   "source": [
    "<font color=red> Findings:\n",
    "    <font color=black>There are 482,094 number of births in the dataset births."
   ]
  },
  {
   "cell_type": "markdown",
   "id": "f730c94e",
   "metadata": {},
   "source": [
    "1.3.) The number of babies that were male and female are shown below as well as a visual. "
   ]
  },
  {
   "cell_type": "code",
   "execution_count": 16,
   "id": "14cf4bf0",
   "metadata": {},
   "outputs": [
    {
     "data": {
      "text/html": [
       "<div>\n",
       "<style scoped>\n",
       "    .dataframe tbody tr th:only-of-type {\n",
       "        vertical-align: middle;\n",
       "    }\n",
       "\n",
       "    .dataframe tbody tr th {\n",
       "        vertical-align: top;\n",
       "    }\n",
       "\n",
       "    .dataframe thead th {\n",
       "        text-align: right;\n",
       "    }\n",
       "</style>\n",
       "<table border=\"1\" class=\"dataframe\">\n",
       "  <thead>\n",
       "    <tr style=\"text-align: right;\">\n",
       "      <th></th>\n",
       "      <th>birth_year</th>\n",
       "      <th>gender</th>\n",
       "      <th>ethnicity</th>\n",
       "      <th>first_name</th>\n",
       "      <th>frequency</th>\n",
       "    </tr>\n",
       "  </thead>\n",
       "  <tbody>\n",
       "    <tr>\n",
       "      <th>0</th>\n",
       "      <td>2012</td>\n",
       "      <td>female</td>\n",
       "      <td>asian and paci</td>\n",
       "      <td>michelle</td>\n",
       "      <td>48</td>\n",
       "    </tr>\n",
       "    <tr>\n",
       "      <th>1</th>\n",
       "      <td>2017</td>\n",
       "      <td>female</td>\n",
       "      <td>black non hispanic</td>\n",
       "      <td>londyn</td>\n",
       "      <td>16</td>\n",
       "    </tr>\n",
       "    <tr>\n",
       "      <th>2</th>\n",
       "      <td>2015</td>\n",
       "      <td>female</td>\n",
       "      <td>white non hispanic</td>\n",
       "      <td>lauren</td>\n",
       "      <td>19</td>\n",
       "    </tr>\n",
       "    <tr>\n",
       "      <th>3</th>\n",
       "      <td>2015</td>\n",
       "      <td>female</td>\n",
       "      <td>black non hispanic</td>\n",
       "      <td>kayla</td>\n",
       "      <td>44</td>\n",
       "    </tr>\n",
       "    <tr>\n",
       "      <th>5</th>\n",
       "      <td>2017</td>\n",
       "      <td>female</td>\n",
       "      <td>white non hispanic</td>\n",
       "      <td>norah</td>\n",
       "      <td>10</td>\n",
       "    </tr>\n",
       "    <tr>\n",
       "      <th>...</th>\n",
       "      <td>...</td>\n",
       "      <td>...</td>\n",
       "      <td>...</td>\n",
       "      <td>...</td>\n",
       "      <td>...</td>\n",
       "    </tr>\n",
       "    <tr>\n",
       "      <th>14142</th>\n",
       "      <td>2014</td>\n",
       "      <td>female</td>\n",
       "      <td>hispanic</td>\n",
       "      <td>nina</td>\n",
       "      <td>11</td>\n",
       "    </tr>\n",
       "    <tr>\n",
       "      <th>14144</th>\n",
       "      <td>2013</td>\n",
       "      <td>female</td>\n",
       "      <td>white non hispanic</td>\n",
       "      <td>madison</td>\n",
       "      <td>78</td>\n",
       "    </tr>\n",
       "    <tr>\n",
       "      <th>14145</th>\n",
       "      <td>2011</td>\n",
       "      <td>female</td>\n",
       "      <td>asian and pacific islander</td>\n",
       "      <td>sara</td>\n",
       "      <td>24</td>\n",
       "    </tr>\n",
       "    <tr>\n",
       "      <th>14149</th>\n",
       "      <td>2013</td>\n",
       "      <td>female</td>\n",
       "      <td>hispanic</td>\n",
       "      <td>carla</td>\n",
       "      <td>14</td>\n",
       "    </tr>\n",
       "    <tr>\n",
       "      <th>14152</th>\n",
       "      <td>2017</td>\n",
       "      <td>female</td>\n",
       "      <td>asian and pacific islander</td>\n",
       "      <td>nora</td>\n",
       "      <td>12</td>\n",
       "    </tr>\n",
       "  </tbody>\n",
       "</table>\n",
       "<p>7230 rows × 5 columns</p>\n",
       "</div>"
      ],
      "text/plain": [
       "       birth_year  gender                   ethnicity first_name  frequency\n",
       "0            2012  female              asian and paci   michelle         48\n",
       "1            2017  female          black non hispanic     londyn         16\n",
       "2            2015  female          white non hispanic     lauren         19\n",
       "3            2015  female          black non hispanic      kayla         44\n",
       "5            2017  female          white non hispanic      norah         10\n",
       "...           ...     ...                         ...        ...        ...\n",
       "14142        2014  female                    hispanic       nina         11\n",
       "14144        2013  female          white non hispanic    madison         78\n",
       "14145        2011  female  asian and pacific islander       sara         24\n",
       "14149        2013  female                    hispanic      carla         14\n",
       "14152        2017  female  asian and pacific islander       nora         12\n",
       "\n",
       "[7230 rows x 5 columns]"
      ]
     },
     "execution_count": 16,
     "metadata": {},
     "output_type": "execute_result"
    }
   ],
   "source": [
    "#create a filter \n",
    "filter_1= births.gender==\"female\"\n",
    "#create a df called females.\n",
    "females= births[filter_1]\n",
    "females"
   ]
  },
  {
   "cell_type": "code",
   "execution_count": 17,
   "id": "7d2a3bd3",
   "metadata": {},
   "outputs": [
    {
     "data": {
      "text/plain": [
       "birth_year    7230\n",
       "gender        7230\n",
       "ethnicity     7230\n",
       "first_name    7230\n",
       "frequency     7230\n",
       "dtype: int64"
      ]
     },
     "execution_count": 17,
     "metadata": {},
     "output_type": "execute_result"
    }
   ],
   "source": [
    "# Use the count function to show the details in female. \n",
    "females.count()"
   ]
  },
  {
   "cell_type": "code",
   "execution_count": 91,
   "id": "ba4f4f8e",
   "metadata": {},
   "outputs": [
    {
     "name": "stdout",
     "output_type": "stream",
     "text": [
      "211471\n"
     ]
    }
   ],
   "source": [
    "#Find the number of females by finding the sum of frequency in df females.\n",
    "female_number= females.frequency.sum()\n",
    "print(female_number)"
   ]
  },
  {
   "cell_type": "markdown",
   "id": "4163dae8",
   "metadata": {},
   "source": [
    "<font color=red> Findings:\n",
    "    <font color=black>There are 211,471 females born"
   ]
  },
  {
   "cell_type": "code",
   "execution_count": 18,
   "id": "8fb3f9f9",
   "metadata": {},
   "outputs": [
    {
     "data": {
      "text/plain": [
       "birth_year    6924\n",
       "gender        6924\n",
       "ethnicity     6924\n",
       "first_name    6924\n",
       "frequency     6924\n",
       "dtype: int64"
      ]
     },
     "execution_count": 18,
     "metadata": {},
     "output_type": "execute_result"
    }
   ],
   "source": [
    "# Calculate the males born and create a new Df males\n",
    "\n",
    "filter_2= births.gender==\"male\"\n",
    "males= births[filter_2]\n",
    "males.count()"
   ]
  },
  {
   "cell_type": "code",
   "execution_count": 92,
   "id": "596993ac",
   "metadata": {},
   "outputs": [
    {
     "name": "stdout",
     "output_type": "stream",
     "text": [
      "270623\n"
     ]
    }
   ],
   "source": [
    "#Find the number of males by finding the sum of frequency in df males.\n",
    "male_number= males.frequency.sum()\n",
    "print(male_number)"
   ]
  },
  {
   "cell_type": "markdown",
   "id": "7ffdfda7",
   "metadata": {},
   "source": [
    "<font color=red> Findings:\n",
    "    <font color=black>270623 males were reported born on the Df births"
   ]
  },
  {
   "cell_type": "markdown",
   "id": "50954b89",
   "metadata": {},
   "source": [
    "<font color=red> Findings:\n",
    "    <font color=black>211471 females vs 270623 males were born."
   ]
  },
  {
   "cell_type": "code",
   "execution_count": 174,
   "id": "45f94d8b",
   "metadata": {},
   "outputs": [
    {
     "data": {
      "image/png": "[encoded data removed]",
      "text/plain": [
       "<Figure size 432x288 with 1 Axes>"
      ]
     },
     "metadata": {},
     "output_type": "display_data"
    }
   ],
   "source": [
    "sns.barplot(x=\"gender\", y=\"frequency\",data=births).set(title='Female vs Male Births');"
   ]
  },
  {
   "cell_type": "markdown",
   "id": "58d46df2",
   "metadata": {},
   "source": [
    "<font color=red> Findings:\n",
    "    <font color=black> More males are reported born than female."
   ]
  },
  {
   "cell_type": "markdown",
   "id": "6622f0ba",
   "metadata": {},
   "source": [
    "1.4) Number of babies born each year excluding gender and ethnicity is shown below. "
   ]
  },
  {
   "cell_type": "code",
   "execution_count": 158,
   "id": "53a1d3d8",
   "metadata": {},
   "outputs": [
    {
     "name": "stdout",
     "output_type": "stream",
     "text": [
      "Year \t Birth #\n",
      "birth_year\n",
      "2011    67924\n",
      "2012    70730\n",
      "2013    69344\n",
      "2014    70361\n",
      "2015    69600\n",
      "2016    68740\n",
      "2017    65395\n",
      "Name: frequency, dtype: int64\n"
     ]
    }
   ],
   "source": [
    "# Use group by function to show number of babies born each year. \n",
    "births_year=births.groupby(\"birth_year\").frequency.sum()\n",
    "print (\"Year\",\"\\t\",\"Birth #\")\n",
    "print (births_year)"
   ]
  },
  {
   "cell_type": "code",
   "execution_count": 165,
   "id": "d355633f",
   "metadata": {},
   "outputs": [
    {
     "data": {
      "image/png": "[encoded data removed]",
      "text/plain": [
       "<Figure size 432x288 with 1 Axes>"
      ]
     },
     "metadata": {},
     "output_type": "display_data"
    }
   ],
   "source": [
    "# create a bar chart of the groupby function. \n",
    "births.groupby(\"birth_year\").frequency.sum(). plot(kind=\"line\",title=\"Number of Babies Born Each Year\");"
   ]
  },
  {
   "cell_type": "markdown",
   "id": "46fed7ce",
   "metadata": {},
   "source": [
    "<font color=red> Findings:\n",
    "    <font color=black> In 2011 67,924 babies were born, in 2012 70,730 babies were born, in 2013 69,344 babies were born, in 2014 70,361 babies were born, in 2015 69,600 babies were born, in 2016 68,740 babies were born, and in 2017 65,395 babies were born. "
   ]
  },
  {
   "cell_type": "markdown",
   "id": "f47bdebc",
   "metadata": {},
   "source": [
    "<font color=red> Findings:\n",
    "    <font color=black> Since 2014 the number of babies being born per year is decreasing."
   ]
  },
  {
   "cell_type": "markdown",
   "id": "9aecd3ea",
   "metadata": {},
   "source": [
    "1.5.) Table and chart are shown below representing babies born of each ethnicity "
   ]
  },
  {
   "cell_type": "code",
   "execution_count": 132,
   "id": "3f9f18ef",
   "metadata": {},
   "outputs": [
    {
     "data": {
      "text/plain": [
       "ethnicity\n",
       "asian and paci                 10300\n",
       "asian and pacific islander     55612\n",
       "black non hisp                 10208\n",
       "black non hispanic             58125\n",
       "hispanic                      159511\n",
       "white non hisp                 26675\n",
       "white non hispanic            161663\n",
       "Name: frequency, dtype: int64"
      ]
     },
     "execution_count": 132,
     "metadata": {},
     "output_type": "execute_result"
    }
   ],
   "source": [
    "#Chart for the number of babies born to each ethnicity \n",
    "births.groupby(\"ethnicity\").frequency.sum()"
   ]
  },
  {
   "cell_type": "code",
   "execution_count": 119,
   "id": "c6da4b2a",
   "metadata": {},
   "outputs": [
    {
     "data": {
      "image/png": "[encoded data removed]",
      "text/plain": [
       "<Figure size 432x288 with 1 Axes>"
      ]
     },
     "metadata": {},
     "output_type": "display_data"
    }
   ],
   "source": [
    "#Create a pie chart to show the amount of each ethnicity born. \n",
    "births.groupby(\"ethnicity\").frequency.sum(). plot(kind=\"pie\",title=\"Frequency of Ethnicity\");"
   ]
  },
  {
   "cell_type": "markdown",
   "id": "4f80dd9e",
   "metadata": {},
   "source": [
    "<font color=red> Findings:\n",
    "    <font color=black> White non hispanic was the most common ethnicity in the babies born, with asian and pacific being the least common."
   ]
  },
  {
   "cell_type": "markdown",
   "id": "66032438",
   "metadata": {},
   "source": [
    "1.6) 10 most popular names are shown below."
   ]
  },
  {
   "cell_type": "code",
   "execution_count": 160,
   "id": "2d676f43",
   "metadata": {},
   "outputs": [
    {
     "data": {
      "text/plain": [
       "first_name\n",
       "ethan       4785\n",
       "jacob       4627\n",
       "jayden      4435\n",
       "liam        3948\n",
       "daniel      3920\n",
       "sophia      3913\n",
       "noah        3869\n",
       "matthew     3813\n",
       "david       3746\n",
       "isabella    3710\n",
       "Name: frequency, dtype: int64"
      ]
     },
     "execution_count": 160,
     "metadata": {},
     "output_type": "execute_result"
    }
   ],
   "source": [
    "#use groupby function, sort function in descending order and slicing first 10 names to show\n",
    "#10 most popular names\n",
    "births.groupby(\"first_name\").frequency.sum().sort_values(ascending=False).iloc[0:10]"
   ]
  },
  {
   "cell_type": "markdown",
   "id": "2398210c",
   "metadata": {},
   "source": [
    "<font color=red> Findings:\n",
    "    <font color=black> The ten most popular names are Ethan, Jacob, Jayden, Liam, Daniel, Sophia, Noah, Matthew, David, and Isabella. "
   ]
  },
  {
   "cell_type": "markdown",
   "id": "2845f616",
   "metadata": {},
   "source": [
    "1.7) The 10 most popular female names are shown below."
   ]
  },
  {
   "cell_type": "code",
   "execution_count": 138,
   "id": "94914fa5",
   "metadata": {},
   "outputs": [
    {
     "data": {
      "text/plain": [
       "first_name\n",
       "sophia      3913\n",
       "isabella    3710\n",
       "olivia      3591\n",
       "emma        3493\n",
       "mia         3309\n",
       "emily       2847\n",
       "leah        2612\n",
       "ava         2507\n",
       "chloe       2319\n",
       "madison     2318\n",
       "Name: frequency, dtype: int64"
      ]
     },
     "execution_count": 138,
     "metadata": {},
     "output_type": "execute_result"
    }
   ],
   "source": [
    "#use the same function in 1.6 just instead of using df births use df females\n",
    "females.groupby(\"first_name\").frequency.sum().sort_values(ascending=False).iloc[0:10]"
   ]
  },
  {
   "cell_type": "markdown",
   "id": "a8e91b1c",
   "metadata": {},
   "source": [
    "<font color=red> Findings:\n",
    "    <font color=black> The ten most popular female names are Sophia, Isabella, Olivia, Emma, Mia, Emily, Leah, Ava, Chloe, and Madison"
   ]
  },
  {
   "cell_type": "markdown",
   "id": "a287dea4",
   "metadata": {},
   "source": [
    "1.8.) Emma Thompson boasts that her first name \"Emma\" became more popular over time, can this be supported?"
   ]
  },
  {
   "cell_type": "code",
   "execution_count": 141,
   "id": "70c24e51",
   "metadata": {
    "scrolled": true
   },
   "outputs": [
    {
     "data": {
      "text/html": [
       "<div>\n",
       "<style scoped>\n",
       "    .dataframe tbody tr th:only-of-type {\n",
       "        vertical-align: middle;\n",
       "    }\n",
       "\n",
       "    .dataframe tbody tr th {\n",
       "        vertical-align: top;\n",
       "    }\n",
       "\n",
       "    .dataframe thead th {\n",
       "        text-align: right;\n",
       "    }\n",
       "</style>\n",
       "<table border=\"1\" class=\"dataframe\">\n",
       "  <thead>\n",
       "    <tr style=\"text-align: right;\">\n",
       "      <th></th>\n",
       "      <th>birth_year</th>\n",
       "      <th>gender</th>\n",
       "      <th>ethnicity</th>\n",
       "      <th>first_name</th>\n",
       "      <th>frequency</th>\n",
       "    </tr>\n",
       "  </thead>\n",
       "  <tbody>\n",
       "    <tr>\n",
       "      <th>1797</th>\n",
       "      <td>2016</td>\n",
       "      <td>female</td>\n",
       "      <td>white non hispanic</td>\n",
       "      <td>emma</td>\n",
       "      <td>201</td>\n",
       "    </tr>\n",
       "    <tr>\n",
       "      <th>1856</th>\n",
       "      <td>2015</td>\n",
       "      <td>female</td>\n",
       "      <td>hispanic</td>\n",
       "      <td>emma</td>\n",
       "      <td>196</td>\n",
       "    </tr>\n",
       "    <tr>\n",
       "      <th>2303</th>\n",
       "      <td>2012</td>\n",
       "      <td>female</td>\n",
       "      <td>asian and paci</td>\n",
       "      <td>emma</td>\n",
       "      <td>97</td>\n",
       "    </tr>\n",
       "    <tr>\n",
       "      <th>2990</th>\n",
       "      <td>2013</td>\n",
       "      <td>female</td>\n",
       "      <td>hispanic</td>\n",
       "      <td>emma</td>\n",
       "      <td>182</td>\n",
       "    </tr>\n",
       "    <tr>\n",
       "      <th>3463</th>\n",
       "      <td>2017</td>\n",
       "      <td>female</td>\n",
       "      <td>hispanic</td>\n",
       "      <td>emma</td>\n",
       "      <td>222</td>\n",
       "    </tr>\n",
       "    <tr>\n",
       "      <th>3638</th>\n",
       "      <td>2016</td>\n",
       "      <td>female</td>\n",
       "      <td>hispanic</td>\n",
       "      <td>emma</td>\n",
       "      <td>197</td>\n",
       "    </tr>\n",
       "    <tr>\n",
       "      <th>4004</th>\n",
       "      <td>2011</td>\n",
       "      <td>female</td>\n",
       "      <td>white non hispanic</td>\n",
       "      <td>emma</td>\n",
       "      <td>213</td>\n",
       "    </tr>\n",
       "    <tr>\n",
       "      <th>5272</th>\n",
       "      <td>2016</td>\n",
       "      <td>female</td>\n",
       "      <td>black non hispanic</td>\n",
       "      <td>emma</td>\n",
       "      <td>24</td>\n",
       "    </tr>\n",
       "    <tr>\n",
       "      <th>5308</th>\n",
       "      <td>2014</td>\n",
       "      <td>female</td>\n",
       "      <td>hispanic</td>\n",
       "      <td>emma</td>\n",
       "      <td>167</td>\n",
       "    </tr>\n",
       "    <tr>\n",
       "      <th>5429</th>\n",
       "      <td>2012</td>\n",
       "      <td>female</td>\n",
       "      <td>white non hisp</td>\n",
       "      <td>emma</td>\n",
       "      <td>228</td>\n",
       "    </tr>\n",
       "    <tr>\n",
       "      <th>5842</th>\n",
       "      <td>2011</td>\n",
       "      <td>female</td>\n",
       "      <td>black non hispanic</td>\n",
       "      <td>emma</td>\n",
       "      <td>15</td>\n",
       "    </tr>\n",
       "    <tr>\n",
       "      <th>6071</th>\n",
       "      <td>2013</td>\n",
       "      <td>female</td>\n",
       "      <td>white non hispanic</td>\n",
       "      <td>emma</td>\n",
       "      <td>228</td>\n",
       "    </tr>\n",
       "    <tr>\n",
       "      <th>7933</th>\n",
       "      <td>2017</td>\n",
       "      <td>female</td>\n",
       "      <td>white non hispanic</td>\n",
       "      <td>emma</td>\n",
       "      <td>199</td>\n",
       "    </tr>\n",
       "    <tr>\n",
       "      <th>8240</th>\n",
       "      <td>2015</td>\n",
       "      <td>female</td>\n",
       "      <td>black non hispanic</td>\n",
       "      <td>emma</td>\n",
       "      <td>17</td>\n",
       "    </tr>\n",
       "    <tr>\n",
       "      <th>8348</th>\n",
       "      <td>2014</td>\n",
       "      <td>female</td>\n",
       "      <td>white non hispanic</td>\n",
       "      <td>emma</td>\n",
       "      <td>205</td>\n",
       "    </tr>\n",
       "    <tr>\n",
       "      <th>9384</th>\n",
       "      <td>2014</td>\n",
       "      <td>female</td>\n",
       "      <td>asian and pacific islander</td>\n",
       "      <td>emma</td>\n",
       "      <td>96</td>\n",
       "    </tr>\n",
       "    <tr>\n",
       "      <th>9704</th>\n",
       "      <td>2016</td>\n",
       "      <td>female</td>\n",
       "      <td>asian and pacific islander</td>\n",
       "      <td>emma</td>\n",
       "      <td>99</td>\n",
       "    </tr>\n",
       "    <tr>\n",
       "      <th>10078</th>\n",
       "      <td>2017</td>\n",
       "      <td>female</td>\n",
       "      <td>asian and pacific islander</td>\n",
       "      <td>emma</td>\n",
       "      <td>109</td>\n",
       "    </tr>\n",
       "    <tr>\n",
       "      <th>10214</th>\n",
       "      <td>2012</td>\n",
       "      <td>female</td>\n",
       "      <td>hispanic</td>\n",
       "      <td>emma</td>\n",
       "      <td>125</td>\n",
       "    </tr>\n",
       "    <tr>\n",
       "      <th>10274</th>\n",
       "      <td>2013</td>\n",
       "      <td>female</td>\n",
       "      <td>asian and pacific islander</td>\n",
       "      <td>emma</td>\n",
       "      <td>79</td>\n",
       "    </tr>\n",
       "    <tr>\n",
       "      <th>10297</th>\n",
       "      <td>2011</td>\n",
       "      <td>female</td>\n",
       "      <td>hispanic</td>\n",
       "      <td>emma</td>\n",
       "      <td>114</td>\n",
       "    </tr>\n",
       "    <tr>\n",
       "      <th>10703</th>\n",
       "      <td>2015</td>\n",
       "      <td>female</td>\n",
       "      <td>white non hispanic</td>\n",
       "      <td>emma</td>\n",
       "      <td>225</td>\n",
       "    </tr>\n",
       "    <tr>\n",
       "      <th>11248</th>\n",
       "      <td>2017</td>\n",
       "      <td>female</td>\n",
       "      <td>black non hispanic</td>\n",
       "      <td>emma</td>\n",
       "      <td>31</td>\n",
       "    </tr>\n",
       "    <tr>\n",
       "      <th>11418</th>\n",
       "      <td>2015</td>\n",
       "      <td>female</td>\n",
       "      <td>asian and pacific islander</td>\n",
       "      <td>emma</td>\n",
       "      <td>74</td>\n",
       "    </tr>\n",
       "    <tr>\n",
       "      <th>11421</th>\n",
       "      <td>2011</td>\n",
       "      <td>female</td>\n",
       "      <td>asian and pacific islander</td>\n",
       "      <td>emma</td>\n",
       "      <td>75</td>\n",
       "    </tr>\n",
       "    <tr>\n",
       "      <th>12922</th>\n",
       "      <td>2012</td>\n",
       "      <td>female</td>\n",
       "      <td>black non hisp</td>\n",
       "      <td>emma</td>\n",
       "      <td>27</td>\n",
       "    </tr>\n",
       "    <tr>\n",
       "      <th>13010</th>\n",
       "      <td>2014</td>\n",
       "      <td>female</td>\n",
       "      <td>black non hispanic</td>\n",
       "      <td>emma</td>\n",
       "      <td>23</td>\n",
       "    </tr>\n",
       "    <tr>\n",
       "      <th>13277</th>\n",
       "      <td>2013</td>\n",
       "      <td>female</td>\n",
       "      <td>black non hispanic</td>\n",
       "      <td>emma</td>\n",
       "      <td>25</td>\n",
       "    </tr>\n",
       "  </tbody>\n",
       "</table>\n",
       "</div>"
      ],
      "text/plain": [
       "       birth_year  gender                   ethnicity first_name  frequency\n",
       "1797         2016  female          white non hispanic       emma        201\n",
       "1856         2015  female                    hispanic       emma        196\n",
       "2303         2012  female              asian and paci       emma         97\n",
       "2990         2013  female                    hispanic       emma        182\n",
       "3463         2017  female                    hispanic       emma        222\n",
       "3638         2016  female                    hispanic       emma        197\n",
       "4004         2011  female          white non hispanic       emma        213\n",
       "5272         2016  female          black non hispanic       emma         24\n",
       "5308         2014  female                    hispanic       emma        167\n",
       "5429         2012  female              white non hisp       emma        228\n",
       "5842         2011  female          black non hispanic       emma         15\n",
       "6071         2013  female          white non hispanic       emma        228\n",
       "7933         2017  female          white non hispanic       emma        199\n",
       "8240         2015  female          black non hispanic       emma         17\n",
       "8348         2014  female          white non hispanic       emma        205\n",
       "9384         2014  female  asian and pacific islander       emma         96\n",
       "9704         2016  female  asian and pacific islander       emma         99\n",
       "10078        2017  female  asian and pacific islander       emma        109\n",
       "10214        2012  female                    hispanic       emma        125\n",
       "10274        2013  female  asian and pacific islander       emma         79\n",
       "10297        2011  female                    hispanic       emma        114\n",
       "10703        2015  female          white non hispanic       emma        225\n",
       "11248        2017  female          black non hispanic       emma         31\n",
       "11418        2015  female  asian and pacific islander       emma         74\n",
       "11421        2011  female  asian and pacific islander       emma         75\n",
       "12922        2012  female              black non hisp       emma         27\n",
       "13010        2014  female          black non hispanic       emma         23\n",
       "13277        2013  female          black non hispanic       emma         25"
      ]
     },
     "execution_count": 141,
     "metadata": {},
     "output_type": "execute_result"
    }
   ],
   "source": [
    "#Create a filter where birth names = emma\n",
    "filter_3= births.first_name== \"emma\"\n",
    "#create a df called emma showing only rows where the first_name is emma.\n",
    "emma=births[filter_3]\n",
    "emma"
   ]
  },
  {
   "cell_type": "code",
   "execution_count": 142,
   "id": "7e0fdd15",
   "metadata": {},
   "outputs": [
    {
     "data": {
      "text/plain": [
       "birth_year\n",
       "2011    417\n",
       "2012    477\n",
       "2013    514\n",
       "2014    491\n",
       "2015    512\n",
       "2016    521\n",
       "2017    561\n",
       "Name: frequency, dtype: int64"
      ]
     },
     "execution_count": 142,
     "metadata": {},
     "output_type": "execute_result"
    }
   ],
   "source": [
    "#Use group by function of df Emma, use birth_year with the sum of frequency to show the number of Emmas\n",
    "#born each year. \n",
    "emma.groupby(\"birth_year\").frequency.sum()"
   ]
  },
  {
   "cell_type": "code",
   "execution_count": 143,
   "id": "ec88f666",
   "metadata": {},
   "outputs": [
    {
     "data": {
      "image/png": "[encoded data removed]",
      "text/plain": [
       "<Figure size 432x288 with 1 Axes>"
      ]
     },
     "metadata": {},
     "output_type": "display_data"
    }
   ],
   "source": [
    "#Create a line graph showing the trend of Emma. \n",
    "emma.groupby(\"birth_year\").frequency.sum().plot(kind=\"line\",title=\"Emma Over Time\");"
   ]
  },
  {
   "cell_type": "markdown",
   "id": "a913f35e",
   "metadata": {},
   "source": [
    "<font color=red> Findings:\n",
    "    <font color=black> The given findings do support Emma Thompson's claim. Her name excluding the year 2013 has been increasing in popularity. "
   ]
  },
  {
   "cell_type": "markdown",
   "id": "a3cd9051",
   "metadata": {},
   "source": [
    "1.9.) The distinct names in the dataset is show below. "
   ]
  },
  {
   "cell_type": "code",
   "execution_count": 145,
   "id": "0cc43dff",
   "metadata": {},
   "outputs": [
    {
     "data": {
      "text/plain": [
       "1832"
      ]
     },
     "execution_count": 145,
     "metadata": {},
     "output_type": "execute_result"
    }
   ],
   "source": [
    "#use nunique functions to show number of unique first names on df births\n",
    "births.first_name.nunique()"
   ]
  },
  {
   "cell_type": "markdown",
   "id": "69d116bb",
   "metadata": {},
   "source": [
    "<font color=red> Findings:\n",
    "    <font color=black> There are 1832 unique first names in the dataset. "
   ]
  },
  {
   "cell_type": "markdown",
   "id": "e230dbbb",
   "metadata": {},
   "source": [
    "1.10.) The number of distinct female and male names are shown below. "
   ]
  },
  {
   "cell_type": "code",
   "execution_count": 148,
   "id": "e6f99a3a",
   "metadata": {},
   "outputs": [
    {
     "data": {
      "text/plain": [
       "1011"
      ]
     },
     "execution_count": 148,
     "metadata": {},
     "output_type": "execute_result"
    }
   ],
   "source": [
    "#use nunique functions to show number of unique first names on df females\n",
    "female_u=females.first_name.nunique()\n",
    "female_u"
   ]
  },
  {
   "cell_type": "code",
   "execution_count": 149,
   "id": "b44a6988",
   "metadata": {},
   "outputs": [
    {
     "data": {
      "text/plain": [
       "852"
      ]
     },
     "execution_count": 149,
     "metadata": {},
     "output_type": "execute_result"
    }
   ],
   "source": [
    "#use nunique functions to show number of unique first names on df males\n",
    "males_u=males.first_name.nunique()\n",
    "males_u"
   ]
  },
  {
   "cell_type": "markdown",
   "id": "4f2d9772",
   "metadata": {},
   "source": [
    "<font color=red> Findings:\n",
    "    <font color=black> There are 1011 unique female names and 852 unique male names."
   ]
  },
  {
   "cell_type": "markdown",
   "id": "33238fe2",
   "metadata": {},
   "source": [
    "1.11) Is the number for question 1.10 consistent with question 1.9?"
   ]
  },
  {
   "cell_type": "code",
   "execution_count": 150,
   "id": "3559cd2d",
   "metadata": {},
   "outputs": [
    {
     "data": {
      "text/plain": [
       "1863"
      ]
     },
     "execution_count": 150,
     "metadata": {},
     "output_type": "execute_result"
    }
   ],
   "source": [
    "total =female_u + males_u\n",
    "total"
   ]
  },
  {
   "cell_type": "markdown",
   "id": "3c6c7d2a",
   "metadata": {},
   "source": [
    "<font color=red> Findings:\n",
    "    <font color=black> The findings in 1.10) are not consistent with the findings in 1.9) there are a total of 1832 unique names. The sum of female and male unique names from question 1.10 is 1863. The reason for this discreptency is that the same name could be used for both male and female such as Jordan or Jamie. "
   ]
  },
  {
   "cell_type": "markdown",
   "id": "4db5bb6d",
   "metadata": {},
   "source": [
    "1.12) A table is shown below that shows the total number of babies of each ethnicity born each year. The subtotals by ethnicity each year are also shown below."
   ]
  },
  {
   "cell_type": "code",
   "execution_count": 154,
   "id": "4ad19be3",
   "metadata": {},
   "outputs": [
    {
     "data": {
      "text/html": [
       "<div>\n",
       "<style scoped>\n",
       "    .dataframe tbody tr th:only-of-type {\n",
       "        vertical-align: middle;\n",
       "    }\n",
       "\n",
       "    .dataframe tbody tr th {\n",
       "        vertical-align: top;\n",
       "    }\n",
       "\n",
       "    .dataframe thead th {\n",
       "        text-align: right;\n",
       "    }\n",
       "</style>\n",
       "<table border=\"1\" class=\"dataframe\">\n",
       "  <thead>\n",
       "    <tr style=\"text-align: right;\">\n",
       "      <th>birth_year</th>\n",
       "      <th>2011</th>\n",
       "      <th>2012</th>\n",
       "      <th>2013</th>\n",
       "      <th>2014</th>\n",
       "      <th>2015</th>\n",
       "      <th>2016</th>\n",
       "      <th>2017</th>\n",
       "    </tr>\n",
       "    <tr>\n",
       "      <th>ethnicity</th>\n",
       "      <th></th>\n",
       "      <th></th>\n",
       "      <th></th>\n",
       "      <th></th>\n",
       "      <th></th>\n",
       "      <th></th>\n",
       "      <th></th>\n",
       "    </tr>\n",
       "  </thead>\n",
       "  <tbody>\n",
       "    <tr>\n",
       "      <th>asian and paci</th>\n",
       "      <td>NaN</td>\n",
       "      <td>10300.0</td>\n",
       "      <td>NaN</td>\n",
       "      <td>NaN</td>\n",
       "      <td>NaN</td>\n",
       "      <td>NaN</td>\n",
       "      <td>NaN</td>\n",
       "    </tr>\n",
       "    <tr>\n",
       "      <th>asian and pacific islander</th>\n",
       "      <td>8063.0</td>\n",
       "      <td>NaN</td>\n",
       "      <td>9293.0</td>\n",
       "      <td>9834.0</td>\n",
       "      <td>9584.0</td>\n",
       "      <td>9973.0</td>\n",
       "      <td>8865.0</td>\n",
       "    </tr>\n",
       "    <tr>\n",
       "      <th>black non hisp</th>\n",
       "      <td>NaN</td>\n",
       "      <td>10208.0</td>\n",
       "      <td>NaN</td>\n",
       "      <td>NaN</td>\n",
       "      <td>NaN</td>\n",
       "      <td>NaN</td>\n",
       "      <td>NaN</td>\n",
       "    </tr>\n",
       "    <tr>\n",
       "      <th>black non hispanic</th>\n",
       "      <td>10541.0</td>\n",
       "      <td>NaN</td>\n",
       "      <td>10144.0</td>\n",
       "      <td>9957.0</td>\n",
       "      <td>9637.0</td>\n",
       "      <td>9147.0</td>\n",
       "      <td>8699.0</td>\n",
       "    </tr>\n",
       "    <tr>\n",
       "      <th>hispanic</th>\n",
       "      <td>24442.0</td>\n",
       "      <td>23547.0</td>\n",
       "      <td>23067.0</td>\n",
       "      <td>22855.0</td>\n",
       "      <td>22813.0</td>\n",
       "      <td>22086.0</td>\n",
       "      <td>20701.0</td>\n",
       "    </tr>\n",
       "    <tr>\n",
       "      <th>white non hisp</th>\n",
       "      <td>NaN</td>\n",
       "      <td>26675.0</td>\n",
       "      <td>NaN</td>\n",
       "      <td>NaN</td>\n",
       "      <td>NaN</td>\n",
       "      <td>NaN</td>\n",
       "      <td>NaN</td>\n",
       "    </tr>\n",
       "    <tr>\n",
       "      <th>white non hispanic</th>\n",
       "      <td>24878.0</td>\n",
       "      <td>NaN</td>\n",
       "      <td>26840.0</td>\n",
       "      <td>27715.0</td>\n",
       "      <td>27566.0</td>\n",
       "      <td>27534.0</td>\n",
       "      <td>27130.0</td>\n",
       "    </tr>\n",
       "  </tbody>\n",
       "</table>\n",
       "</div>"
      ],
      "text/plain": [
       "birth_year                     2011     2012     2013     2014     2015  \\\n",
       "ethnicity                                                                 \n",
       "asian and paci                  NaN  10300.0      NaN      NaN      NaN   \n",
       "asian and pacific islander   8063.0      NaN   9293.0   9834.0   9584.0   \n",
       "black non hisp                  NaN  10208.0      NaN      NaN      NaN   \n",
       "black non hispanic          10541.0      NaN  10144.0   9957.0   9637.0   \n",
       "hispanic                    24442.0  23547.0  23067.0  22855.0  22813.0   \n",
       "white non hisp                  NaN  26675.0      NaN      NaN      NaN   \n",
       "white non hispanic          24878.0      NaN  26840.0  27715.0  27566.0   \n",
       "\n",
       "birth_year                     2016     2017  \n",
       "ethnicity                                     \n",
       "asian and paci                  NaN      NaN  \n",
       "asian and pacific islander   9973.0   8865.0  \n",
       "black non hisp                  NaN      NaN  \n",
       "black non hispanic           9147.0   8699.0  \n",
       "hispanic                    22086.0  20701.0  \n",
       "white non hisp                  NaN      NaN  \n",
       "white non hispanic          27534.0  27130.0  "
      ]
     },
     "execution_count": 154,
     "metadata": {},
     "output_type": "execute_result"
    }
   ],
   "source": [
    "#Use the cross tab function with aggfunc sum\n",
    "pd.crosstab(births.ethnicity, births.birth_year,values=births.frequency, aggfunc=\"sum\")"
   ]
  },
  {
   "cell_type": "markdown",
   "id": "9c2c5903",
   "metadata": {},
   "source": [
    "<font color=red> Findings:\n",
    "    <font color=black> The reason for NaN in the Asian and paci, black non hisp, and white non hisp is that these ethnicities are repeated. For example there is white non hisp and white non hispanic which are the same. When there is Nan in white non hisp, there is a value in white non hispanic, same with the other repated rows."
   ]
  },
  {
   "cell_type": "markdown",
   "id": "99316f62",
   "metadata": {},
   "source": [
    "1.13.) A table is shown below which show the number of female babies vs. number of male babies."
   ]
  },
  {
   "cell_type": "code",
   "execution_count": 155,
   "id": "2e59e825",
   "metadata": {},
   "outputs": [
    {
     "data": {
      "text/html": [
       "<div>\n",
       "<style scoped>\n",
       "    .dataframe tbody tr th:only-of-type {\n",
       "        vertical-align: middle;\n",
       "    }\n",
       "\n",
       "    .dataframe tbody tr th {\n",
       "        vertical-align: top;\n",
       "    }\n",
       "\n",
       "    .dataframe thead th {\n",
       "        text-align: right;\n",
       "    }\n",
       "</style>\n",
       "<table border=\"1\" class=\"dataframe\">\n",
       "  <thead>\n",
       "    <tr style=\"text-align: right;\">\n",
       "      <th>birth_year</th>\n",
       "      <th>2011</th>\n",
       "      <th>2012</th>\n",
       "      <th>2013</th>\n",
       "      <th>2014</th>\n",
       "      <th>2015</th>\n",
       "      <th>2016</th>\n",
       "      <th>2017</th>\n",
       "    </tr>\n",
       "    <tr>\n",
       "      <th>gender</th>\n",
       "      <th></th>\n",
       "      <th></th>\n",
       "      <th></th>\n",
       "      <th></th>\n",
       "      <th></th>\n",
       "      <th></th>\n",
       "      <th></th>\n",
       "    </tr>\n",
       "  </thead>\n",
       "  <tbody>\n",
       "    <tr>\n",
       "      <th>female</th>\n",
       "      <td>29487</td>\n",
       "      <td>30721</td>\n",
       "      <td>30348</td>\n",
       "      <td>31066</td>\n",
       "      <td>30592</td>\n",
       "      <td>30360</td>\n",
       "      <td>28897</td>\n",
       "    </tr>\n",
       "    <tr>\n",
       "      <th>male</th>\n",
       "      <td>38437</td>\n",
       "      <td>40009</td>\n",
       "      <td>38996</td>\n",
       "      <td>39295</td>\n",
       "      <td>39008</td>\n",
       "      <td>38380</td>\n",
       "      <td>36498</td>\n",
       "    </tr>\n",
       "  </tbody>\n",
       "</table>\n",
       "</div>"
      ],
      "text/plain": [
       "birth_year   2011   2012   2013   2014   2015   2016   2017\n",
       "gender                                                     \n",
       "female      29487  30721  30348  31066  30592  30360  28897\n",
       "male        38437  40009  38996  39295  39008  38380  36498"
      ]
     },
     "execution_count": 155,
     "metadata": {},
     "output_type": "execute_result"
    }
   ],
   "source": [
    "#Use the cross tab function with aggfunc sum\n",
    "pd.crosstab(births.gender, births.birth_year,values=births.frequency, aggfunc=\"sum\")"
   ]
  },
  {
   "cell_type": "code",
   "execution_count": 173,
   "id": "a3f9cbda",
   "metadata": {},
   "outputs": [
    {
     "data": {
      "image/png": "[encoded data removed]",
      "text/plain": [
       "<Figure size 432x288 with 1 Axes>"
      ]
     },
     "metadata": {},
     "output_type": "display_data"
    }
   ],
   "source": [
    "pd.crosstab(births.gender, births.birth_year,values=births.frequency, aggfunc=\"sum\").plot(kind=\"bar\",title=\"Females vs Male YoY\");"
   ]
  },
  {
   "cell_type": "markdown",
   "id": "883e48cf",
   "metadata": {},
   "source": [
    "<font color=red> Findings:\n",
    "    <font color=black> These findings support the sociologists claim that each year more males are born than females. "
   ]
  },
  {
   "cell_type": "code",
   "execution_count": null,
   "id": "224d3604",
   "metadata": {},
   "outputs": [],
   "source": []
  }
 ],
 "metadata": {
  "kernelspec": {
   "display_name": "Python 3 (ipykernel)",
   "language": "python",
   "name": "python3"
  },
  "language_info": {
   "codemirror_mode": {
    "name": "ipython",
    "version": 3
   },
   "file_extension": ".py",
   "mimetype": "text/x-python",
   "name": "python",
   "nbconvert_exporter": "python",
   "pygments_lexer": "ipython3",
   "version": "3.9.7"
  }
 },
 "nbformat": 4,
 "nbformat_minor": 5
}
